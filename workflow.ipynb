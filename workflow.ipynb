{
 "cells": [
  {
   "cell_type": "code",
   "execution_count": 1,
   "metadata": {},
   "outputs": [],
   "source": [
    "questions_list = [\n",
    "    \"Let's begin with the basics. What's the job title you're hiring for?\",\n",
    "    \"Thanks! And is this position full-time, part-time, or contract?\",\n",
    "        \"Can you talk about the work arrangement for this role? (Hybrid, WFH, In Office, On Field Etc.)\",\n",
    "    \"Which department will this role be in?\",\n",
    "        \"Great! What defines success in this role?\",\n",
    "    \"Got it. And who will this person report to?\",\n",
    "    \"Well. Where is this position based at?\",\n",
    "    \"Can you talk about the work arrangement for this role? (Hybrid, WFH, In Office, On Field Etc.)\",\n",
    "    \"Now, let's talk about the key responsibilities. Can you describe the main duties this person will handle?\",\n",
    "    \"Got it! Would you like to add any additional tasks or responsibilities?\",\n",
    "    \"Great! What are the specific long-term goals and expectations from this position?\",\n",
    "    \"Got it! What is the immediate challenge that a new hire would face in this position?\",\n",
    "    \"Great! What defines success in this role?\",\n",
    "    \"How does this role align with and support the company's overarching strategic objectives?\",\n",
    "    \"How frequently will this individual collaborate with teams from other departments, such as marketing, sales, or customer success?\",\n",
    "    \"Who are the key stakeholders this person will regularly interact with outside the immediate team?\",\n",
    "    \"Let's cover the skills and qualifications now. What's the minimum years of experience required for this role?\",\n",
    "    \"Great! Any specific educational background or certifications needed?\",\n",
    "    \"Are there any skills you expect them to develop?\",\n",
    "    \"And are there any must-have technical skills or soft skills?\",\n",
    "    \"What type of working style thrives for this role?\",\n",
    "    \"Are there any additional qualifications or skills that would be a bonus?\",\n",
    "    \"Is there any preferred candidate background that would fit the role best?\",\n",
    "    \"What opportunities for learning and growth does this role offer?\",\n",
    "    \"What benefits will you offer with this role?\",\n",
    "    \"What kind of guidance or mentorship can the new hire expect?\",\n",
    "    \"How would you describe your management style?\",\n",
    "    \"And what's the work culture like on the team?\",\n",
    "]\n",
    "\n",
    "\n",
    "\n"
   ]
  },
  {
   "cell_type": "code",
   "execution_count": 2,
   "metadata": {},
   "outputs": [
    {
     "name": "stderr",
     "output_type": "stream",
     "text": [
      "/Users/eshantdas/Desktop/AG_Transformation/core/prompts/advance_question_specific_prompts.py:5: LangChainDeprecationWarning: As of langchain-core 0.3.0, LangChain uses pydantic v2 internally. The langchain_core.pydantic_v1 module was a compatibility shim for pydantic v1, and should no longer be used. Please update the code to import from Pydantic directly.\n",
      "\n",
      "For example, replace imports like: `from langchain_core.pydantic_v1 import BaseModel`\n",
      "with: `from pydantic import BaseModel`\n",
      "or the v1 compatibility namespace if you are working in a code base that has not been fully upgraded to pydantic 2 yet. \tfrom pydantic.v1 import BaseModel\n",
      "\n",
      "  from core.pydantic_classes.advance_workflow_classes import (\n",
      "/Users/eshantdas/Desktop/AG_Transformation/myenv/lib/python3.11/site-packages/langchain_openai/chat_models/base.py:1354: UserWarning: Received a Pydantic BaseModel V1 schema. This is not supported by method=\"json_schema\". Please use method=\"function_calling\" or specify schema via JSON Schema or Pydantic V2 BaseModel. Overriding to method=\"function_calling\".\n",
      "  warnings.warn(\n"
     ]
    }
   ],
   "source": [
    "from core.workflow.advance_workflow import return_reponse"
   ]
  },
  {
   "cell_type": "code",
   "execution_count": 3,
   "metadata": {},
   "outputs": [],
   "source": [
    "\n",
    "\n",
    "\n",
    "chat_history = []\n",
    "chat_summary = []\n",
    "\n",
    "for question in questions_list[:]:\n",
    "    answer=input(question)\n",
    "   \n",
    "\n",
    "    score, reply, follow_up, chat_history, chat_summary = await return_reponse(\n",
    "        question, answer, chat_history, chat_summary\n",
    "    )\n",
    "    if score == 0:\n",
    "        while score == 0:  # Keep retrying while the score is 0\n",
    "            # Ask the user to provide a new input based on the reply\n",
    "            print(reply)\n",
    "            answer = input(reply)\n",
    "        \n",
    "            score, reply, follow_up, chat_history, chat_summary = await return_reponse(\n",
    "                question, answer, chat_history, chat_summary\n",
    "            )\n",
    "            if score != 0:  # Exit the loop if score is no longer 0\n",
    "                break\n",
    "\n",
    "    if score == 1:\n",
    "        pass  # Go to the next question\n",
    "\n",
    "    elif score == 2:\n",
    "        while score==2:  # Continue handling follow-ups until resolved\n",
    "            # Ask the follow-up question and get the user's response\n",
    "            follow_up_answer = input(follow_up)\n",
    "            print(f\"Follow up {follow_up}\")\n",
    "            print(follow_up_answer)\n",
    "            score, reply, follow_up, chat_history, chat_summary = await return_reponse(\n",
    "                follow_up, follow_up_answer, chat_history, chat_summary\n",
    "            )\n",
    "            if score ==0:\n",
    "                while score == 0:  # Keep retrying while the score is 0\n",
    "                    # Ask the user to provide a new input based on the reply\n",
    "                    answer = input(reply)\n",
    "                    score, reply, follow_up, chat_history, chat_summary = await return_reponse(\n",
    "                         question, answer, chat_history, chat_summary\n",
    "                    )\n",
    "                if score != 0:  # Exit the loop if score is no longer 0\n",
    "                    break\n",
    "\n",
    "            if score!=2:  # Exit the loop if no more follow-up questions\n",
    "                break\n",
    "\n",
    "           \n",
    "\n",
    "\n"
   ]
  },
  {
   "cell_type": "code",
   "execution_count": null,
   "metadata": {},
   "outputs": [],
   "source": []
  },
  {
   "cell_type": "code",
   "execution_count": 1,
   "metadata": {},
   "outputs": [],
   "source": [
    "a=[1,2,34,6,7]"
   ]
  },
  {
   "cell_type": "code",
   "execution_count": 3,
   "metadata": {},
   "outputs": [
    {
     "data": {
      "text/plain": [
       "[1, 2, 34, 6, 7]"
      ]
     },
     "execution_count": 3,
     "metadata": {},
     "output_type": "execute_result"
    }
   ],
   "source": [
    "a[:20]"
   ]
  },
  {
   "cell_type": "code",
   "execution_count": null,
   "metadata": {},
   "outputs": [],
   "source": [
    "chat_summary"
   ]
  },
  {
   "cell_type": "code",
   "execution_count": null,
   "metadata": {},
   "outputs": [],
   "source": []
  },
  {
   "cell_type": "code",
   "execution_count": 6,
   "metadata": {},
   "outputs": [],
   "source": [
    "from langchain_openai import AzureChatOpenAI\n",
    "from big_data import big_data"
   ]
  },
  {
   "cell_type": "code",
   "execution_count": 7,
   "metadata": {},
   "outputs": [],
   "source": [
    "llm = AzureChatOpenAI(\n",
    "    azure_deployment=\"gpt-4o\",\n",
    "    api_version=\"2023-03-15-preview\",\n",
    "    temperature=0,\n",
    ")\n"
   ]
  },
  {
   "cell_type": "code",
   "execution_count": 8,
   "metadata": {},
   "outputs": [
    {
     "data": {
      "text/plain": [
       "AIMessage(content='Yes, I can understand and analyze the data provided. The data consists of detailed information about various companies, including their business information, categories, firmographics, e-commerce capabilities, multi-screen compatibility, advertising strategies, social media presence, local business presence, marketplace presence, content analysis, infrastructure robustness, Google reviews, HR & organization details, and SEO analysis.\\n\\nHere is a summary of the key points for each company:\\n\\n1. **TagLine Media Group (Original Company)**\\n   - **Category:** Advertising, Advertising Agencies\\n   - **Annual Revenue:** $1M - $2.5M\\n   - **Monthly Technology Spend:** $700\\n   - **Social Media Presence:** Active on Facebook, Twitter, YouTube, LinkedIn, Pinterest, Instagram\\n   - **Local Business Presence:** Listed on Google Places, Yelp, Yellow Pages, Nokia Places, Nextdoor\\n   - **Google Reviews:** Positive (100%)\\n   - **Employee Count:** 1 - 10\\n   - **SEO Analysis:** Good compliance with SEO best practices\\n\\n2. **Intoclicks (Competitor 1)**\\n   - **Category:** Advertising\\n   - **Annual Revenue:** $1M - $2.5M\\n   - **Monthly Technology Spend:** $4,405\\n   - **Social Media Presence:** Active on Facebook, Twitter, YouTube, LinkedIn, Instagram\\n   - **Local Business Presence:** Listed on Google Places, Yelp, Yellow Pages, Nokia Places\\n   - **Google Reviews:** No reviews\\n   - **Employee Count:** 1 - 10\\n   - **SEO Analysis:** Good compliance with SEO best practices\\n\\n3. **Gsm Marketing Agency (Competitor 2)**\\n   - **Category:** Advertising\\n   - **Annual Revenue:** $5M - $10M\\n   - **Monthly Technology Spend:** $1,638\\n   - **Social Media Presence:** Active on Facebook, Twitter, LinkedIn, Pinterest, Instagram\\n   - **Local Business Presence:** Listed on Google Places, Yelp, Yellow Pages, Nokia Places\\n   - **Google Reviews:** Positive (100%)\\n   - **Employee Count:** 11 - 50\\n   - **SEO Analysis:** Good compliance with SEO best practices\\n\\n4. **Madden Media (Competitor 3)**\\n   - **Category:** Advertising\\n   - **Annual Revenue:** $10M - $25M\\n   - **Monthly Technology Spend:** $14,000\\n   - **Social Media Presence:** Active on Facebook, Twitter, YouTube, LinkedIn, Pinterest, Instagram\\n   - **Local Business Presence:** Listed on Google Places, Yelp, Yellow Pages, Nokia Places\\n   - **Google Reviews:** Mixed (67% Negative, 33% Positive)\\n   - **Employee Count:** 101 - 200\\n   - **SEO Analysis:** Good compliance with SEO best practices\\n\\nThe data for each company includes various metrics and details that can be used to compare their performance, online presence, and marketing strategies. This information can help in understanding the competitive landscape and identifying areas for improvement or opportunities for growth.', additional_kwargs={'refusal': None}, response_metadata={'token_usage': {'completion_tokens': 634, 'prompt_tokens': 47817, 'total_tokens': 48451, 'completion_tokens_details': {'accepted_prediction_tokens': 0, 'audio_tokens': 0, 'reasoning_tokens': 0, 'rejected_prediction_tokens': 0}, 'prompt_tokens_details': {'audio_tokens': 0, 'cached_tokens': 0}}, 'model_name': 'gpt-4o-2024-05-13', 'system_fingerprint': 'fp_f3927aa00d', 'finish_reason': 'stop', 'logprobs': None, 'content_filter_results': {}}, id='run-1bfa28c3-e3dc-4df6-93b2-90c1f484ce63-0', usage_metadata={'input_tokens': 47817, 'output_tokens': 634, 'total_tokens': 48451, 'input_token_details': {'audio': 0, 'cache_read': 0}, 'output_token_details': {'audio': 0, 'reasoning': 0}})"
      ]
     },
     "execution_count": 8,
     "metadata": {},
     "output_type": "execute_result"
    }
   ],
   "source": [
    "question=f\"Are you understanding anything from the data of {big_data}\"\n",
    "llm.invoke(question)"
   ]
  },
  {
   "cell_type": "code",
   "execution_count": 10,
   "metadata": {},
   "outputs": [
    {
     "data": {
      "text/plain": [
       "{'Original Comoany Combined Json Data': '[{\"BUSINESS INFO\":{\"Business Name\":\"TagLine Media Group\",\"Website Formatted\":\"http:\\\\/\\\\/taglinegroup.com\\\\/\",\"Website\":\"http:\\\\/\\\\/taglinegroup.com\\\\/\",\"Phone\":\"5202078910\",\"Default Email\":\"mc@taglinegroup.com\",\"Email List\":[\"mc@taglinegroup.com\"],\"street_address\":\"1655 N Swan Rd,\",\"city\":\"Tucson\",\"zip\":\"85712\",\"state\":\"AZ\",\"country\":\"United States\",\"Headquarters\":\"No\",\"BuzzScore\":74},\"CATEGORY\":{\"primarry_category_name\":\"Advertising\",\"secondary_category_name\":\"Advertising Agencies\"},\"FIRMOGRAPHICS\":{\"locations_count\":1,\"annual_revenue\":\"$1M - $ 2.5M\",\"monthly_technology_spend\":\"700\",\"revenue_seasonality\":\"Fall, Winter\",\"remote_only_business\":\"No\"},\"E-Commerce\":{\"reviews\":\"Yes\",\"featured_products\":\"No\",\"promotions\":\"No\",\"coupons\":\"No\",\"wish_list\":\"No\",\"order_tracking\":\"No\",\"get_a_quote\":\"No\",\"scheduler\":\"Yes\",\"mortgage_calculator\":\"No\",\"finance\":\"No\",\"inventory_search_form\":\"No\",\"estimates_page\":\"No\",\"menu\":\"Yes\",\"facebook_shop_presence\":\"No\",\"amazon_page_presence\":\"No\",\"monthly_technology_spend_tb\":\"$0K - $1K\",\"reservation_and_booking\":\"No\",\"online_ordering\":\"No\",\"buying_page\":\"No\",\"selling_page\":\"No\",\"rentals_page\":\"No\"},\"Multi-Screen Compatibility\":{\"Mobile-Friendly\":\"Yes\",\"Responsive Design\":\"Yes\",\"Page Speed Score (Mobile)\":56},\"Advertising\":{\"Google Ads\":\"Yes\",\"Display Ads\":\"No\",\"Facebook Ads\":\"No\",\"Yelp Ads\":\"No\",\"Instagram Ads\":\"2\"},\"Social Media Presence\":{\"facebook_business_page- presence\":\"Yes\",\"facebook_business_page- fb_followers\":\"2,400\",\"facebook_business_page- page_url\":\"https:\\\\/\\\\/facebook.com\\\\/pg\\\\/43972430865\",\"twitter_business_profile- presence\":\"Yes\",\"twitter_business_profile- twitter_followers\":\"0\",\"twitter_business_profile- tweet_count\":\"0\",\"twitter_business_profile- page_url\":\"https:\\\\/\\\\/twitter.com\\\\/TaglineMediaAZ\",\"youtube_business_channel- presence\":\"Yes\",\"youtube_business_channel- yt_videos_counts\":\"117\",\"youtube_business_channel- yt_subscribers_counts\":\"70\",\"youtube_business_channel- yt_views_counts\":\"218.6K\",\"youtube_business_channel- page_url\":\"https:\\\\/\\\\/www.youtube.com\\\\/@TaglineMedia\",\"linkedin_company_profile- presence\":\"Yes\",\"linkedin_company_profile- page_url\":\"https:\\\\/\\\\/www.linkedin.com\\\\/company\\\\/tagline-media\",\"pinterest- presence\":\"Yes\",\"pinterest- pinterest_followers\":\"No\",\"pinterest- pinterest_following\":\"No\",\"pinterest- pinterest_pins\":\"No\",\"pinterest- pinterest_boards\":\"No\",\"pinterest- page_url\":\"https:\\\\/\\\\/www.pinterest.com\\\\/foreignerds\",\"instagram- presence\":\"Yes\",\"instagram- insta_posts\":\"145\",\"instagram- insta_followers\":\"41\",\"instagram- insta_following\":\"29\",\"instagram- page_url\":\"https:\\\\/\\\\/www.instagram.com\\\\/taglinemediaaz\",\"fb_fans- Facebook Likes\":\"2,379\",\"fbcheckins- Facebook Check ins\":\"64\",\"tweet_friends_count- Twitter Following\":\"9\",\"tweet_likes- Twitter Likes\":\"Yes\",\"tweet_description- Twitter Description\":\"No\",\"pinterest_profile_image_url- Pinterest Profile Image (Link)\":\"No\",\"pinterest_domain_verified- Pinterest Domain Verified\":\"No\",\"pinterest_is_verified_merchant- Pinterest Verified Merchant\":\"No\"},\"Local Business Presence\":{\"google_places-Listed\":\"Yes\",\"google_places-Claimed\":\"Yes\",\"google_places-NAP\":\"No\",\"google_places-local_directory_googleplaces_reviews\":\"21\",\"google_places-local_directory_googleplaces_ratings\":\"5\",\"yelp-Listed\":\"Yes\",\"yelp-Claimed\":\"Yes\",\"yelp-NAP\":\"Yes\",\"yelp-local_directory_yelp_reviews\":\"No\",\"yelp-local_directory_yelp_ratings\":\"No\",\"yellow_pages-Listed\":\"Yes\",\"yellow_pages-Claimed\":\"Yes\",\"yellow_pages-NAP\":\"Yes\",\"nokia_places-Listed\":\"Yes\",\"nokia_places-Claimed\":\"No\",\"nokia_places-NAP\":\"No\",\"nextdoor-Listed\":\"Yes\",\"nextdoor-Claimed\":\"Yes\",\"nextdoor-NAP\":\"Yes\",\"nextdoor-businesss_name\":\"TagLine Media Group\",\"nextdoor-neighborhood_favorite\":\"No\",\"google_places_claimed-Claimed\":\"Yes\",\"yelp_claimed-Claimed\":\"Yes\",\"yellow_pages_climed-Claimed\":\"Yes\",\"nokia_places_climed-Claimed\":\"No\"},\"Marketplace\":{\"Thumbtack\":\"No\",\"Uber Eats\":\"No\",\"OpenTable\":\"No\",\"iOS App\":\"No\",\"Android App\":\"No\"},\"Content Analysis\":{\"Local Phone Number\":\"No\",\"Address on Homepage\":\"No\",\"Map & Directions\":\"No\",\"Contact Us\":\"No\",\"Privacy Policy\":\"No\",\"About Page\":\"No\",\"Services Page\":\"No\",\"Newsletter\":\"No\"},\"Infrastructure Robustness\":{\"PageSpeed Score (Desktop)\":\"76\",\"Caching Enabled\":2,\"Image Size Optimization\":\"No\",\"Text Compression\":\"No\",\"Server Response Time\":\"0.023 s\",\"No Page Redirects\":\"Yes\",\"Prioritize Visible Content\":2,\"Wordpress\":\"Yes\",\"Google Analytics\":\"Yes\",\"SSL\":\"Yes\"},\"Google Reviews\":{\"Negative\":\"No\",\"Neutral\":\"No\",\"Positive\":\"100%\"},\"HR & Organization\":{\"Employee Count\":\"1 - 10\",\"Employee Reviews\":\"No\",\"Employee Ratings\":\"No\",\"Open Positions\":\"No\"},\"SEO Analysis\":{\"Domain Redirection\":\"Yes\",\"Robots.txt\":\"Yes\",\"Sitemap.xml\":\"Yes\",\"Title Tag Compliance\":\"Yes\",\"Location In Title\":\"Yes\",\"Unique Title\":\"No\",\"Meta Description Compliance\":\"Yes\",\"Headings Included\":\"Yes\",\"Image Alt Text\":\"No\",\"Frames Excluded\":\"No\",\"Flash Excluded\":\"Yes\",\"Backlinks\":\"Yes\",\"Domain Authority\":\"No\",\"Domain Age\":\"16 Y\",\"Rich Snippets\":\"No\",\"SEF URL\":\"Yes\",\"Sitemap.html\":\"No\",\"Trust Flow Score\":\"11\"}}]',\n",
       " 'Cmpetation1 Combined Json Data': '[{\"BUSINESS INFO\":{\"Business Name\":\"Intoclicks\",\"Website Formatted\":\"intoclicks.com\",\"Website\":\"intoclicks.com\",\"Phone\":\"5203333374\",\"Default Email\":\"admin@intoclicks.com\",\"Email List\":[\"admin@intoclicks.com\"],\"street_address\":\"1643 N Alvernon Way #103\",\"city\":\"Tucson\",\"zip\":\"85712\",\"state\":\"AZ\",\"country\":\"United States\",\"Headquarters\":\"Yes\"},\"CATEGORY\":{\"primarry_category_name\":\"Advertising\",\"secondary_category_name\":\"Advertising\"},\"FIRMOGRAPHICS\":{\"locations_count\":3,\"annual_revenue\":\"$1M - $ 2.5M\",\"monthly_technology_spend\":\"4405\",\"revenue_seasonality\":\"Fall, Winter\",\"remote_only_business\":\"No\"},\"E-Commerce\":{\"reviews\":\"Yes\",\"featured_products\":\"Yes\",\"promotions\":\"Yes\",\"coupons\":\"No\",\"wish_list\":\"No\",\"order_tracking\":\"No\",\"get_a_quote\":\"No\",\"scheduler\":\"Yes\",\"mortgage_calculator\":\"No\",\"finance\":\"No\",\"inventory_search_form\":\"No\",\"estimates_page\":\"No\",\"menu\":\"No\",\"facebook_shop_presence\":\"No\",\"amazon_page_presence\":\"No\",\"monthly_technology_spend_tb\":\"$1K - $5K\",\"reservation_and_booking\":\"No\",\"online_ordering\":\"No\",\"buying_page\":\"No\",\"selling_page\":\"No\",\"rentals_page\":\"No\"},\"Multi-Screen Compatibility\":{\"Mobile-Friendly\":\"Yes\",\"Responsive Design\":\"Yes\",\"Page Speed Score (Mobile)\":66},\"Advertising\":{\"Google Ads\":\"Yes\",\"Display Ads\":\"No\",\"Facebook Ads\":\"No\",\"Yelp Ads\":\"No\",\"Instagram Ads\":\"2\"},\"Social Media Presence\":{\"facebook_business_page- presence\":\"Yes\",\"facebook_business_page- fb_followers\":\"197\",\"facebook_business_page- page_url\":\"https:\\\\/\\\\/facebook.com\\\\/pg\\\\/161302577333549\",\"twitter_business_profile- presence\":\"Yes\",\"twitter_business_profile- twitter_followers\":\"0\",\"twitter_business_profile- tweet_count\":\"0\",\"twitter_business_profile- page_url\":\"https:\\\\/\\\\/twitter.com\\\\/IntoClicks\",\"youtube_business_channel- presence\":\"Yes\",\"youtube_business_channel- yt_videos_counts\":\"10\",\"youtube_business_channel- yt_subscribers_counts\":\"3\",\"youtube_business_channel- yt_views_counts\":122,\"youtube_business_channel- page_url\":\"https:\\\\/\\\\/www.youtube.com\\\\/channel\\\\/UCYBnnLhqeLfpnEpzqexB2Jg\",\"linkedin_company_profile- presence\":\"Yes\",\"linkedin_company_profile- page_url\":\"https:\\\\/\\\\/www.linkedin.com\\\\/company\\\\/intoclicks\",\"pinterest- presence\":\"No\",\"instagram- presence\":\"Yes\",\"instagram- insta_posts\":\"118\",\"instagram- insta_followers\":\"40\",\"instagram- insta_following\":\"80\",\"instagram- page_url\":\"https:\\\\/\\\\/www.instagram.com\\\\/we.are.intoclicks\",\"fb_fans- Facebook Likes\":\"198\",\"tweet_friends_count- Twitter Following\":\"73\",\"tweet_likes- Twitter Likes\":\"176\",\"tweet_last_engagement- Twitter Last Engagement\":\"No\",\"tweet_description- Twitter Description\":\"No\",\"tweet_posting_frequency- Twitter Tweet Frequency\":\"No\",\"pinterest_domain_verified- Pinterest Domain Verified\":\"No\",\"pinterest_is_verified_merchant- Pinterest Verified Merchant\":\"No\"},\"Local Business Presence\":{\"google_places-Listed\":\"Yes\",\"google_places-Claimed\":\"Yes\",\"google_places-NAP\":\"No\",\"google_places-local_directory_googleplaces_reviews\":\"No\",\"google_places-local_directory_googleplaces_ratings\":\"No\",\"yelp-Listed\":\"Yes\",\"yelp-Claimed\":\"Yes\",\"yelp-NAP\":\"No\",\"yelp-local_directory_yelp_reviews\":\"No\",\"yelp-local_directory_yelp_ratings\":\"4.4\",\"yellow_pages-Listed\":\"No\",\"yellow_pages-Claimed\":\"No\",\"nokia_places-Listed\":\"Yes\",\"nokia_places-Claimed\":\"No\",\"nokia_places-NAP\":\"No\",\"nextdoor-Listed\":\"No\",\"nextdoor-Claimed\":\"No\",\"google_places_claimed-Claimed\":\"Yes\",\"yelp_claimed-Claimed\":\"Yes\",\"yellow_pages_climed-Claimed\":\"No\",\"nokia_places_climed-Claimed\":\"No\"},\"Marketplace\":{\"Thumbtack\":\"No\",\"Uber Eats\":\"No\",\"OpenTable\":\"No\",\"iOS App\":\"No\",\"Android App\":\"No\"},\"Content Analysis\":{\"Local Phone Number\":\"No\",\"Address on Homepage\":\"No\",\"Map & Directions\":\"No\",\"Contact Us\":\"No\",\"Privacy Policy\":\"No\",\"About Page\":\"No\",\"Services Page\":\"No\",\"Business Hours\":\"No\",\"FAQ\":\"No\",\"Newsletter\":\"No\"},\"Infrastructure Robustness\":{\"PageSpeed Score (Desktop)\":\"92\",\"Caching Enabled\":2,\"Image Size Optimization\":\"No\",\"Text Compression\":\"No\",\"Server Response Time\":\"0.169 s\",\"No Page Redirects\":\"Yes\",\"Prioritize Visible Content\":2,\"Wordpress\":\"Yes\",\"Google Analytics\":\"Yes\",\"SSL\":\"Yes\"},\"Google Reviews\":{\"Negative\":\"No\",\"Neutral\":\"No\",\"Positive\":\"No\"},\"HR & Organization\":{\"Employee Count\":\"1 - 10\",\"Employee Reviews\":\"No\",\"Employee Ratings\":\"No\",\"Open Positions\":\"No\"},\"SEO Analysis\":{\"Domain Redirection\":\"Yes\",\"Robots.txt\":\"Yes\",\"Sitemap.xml\":\"Yes\",\"Title Tag Compliance\":\"Yes\",\"Location In Title\":\"No\",\"Unique Title\":\"Yes\",\"Meta Description Compliance\":\"Yes\",\"Headings Included\":\"Yes\",\"Image Alt Text\":\"Yes\",\"Frames Excluded\":\"Yes\",\"Flash Excluded\":\"Yes\",\"Backlinks\":\"2,424\",\"Domain Authority\":\"No\",\"Domain Age\":\"20 Y, 2 M\",\"Rich Snippets\":\"Yes\",\"SEF URL\":\"Yes\",\"Sitemap.html\":\"No\",\"Trust Flow Score\":\"27\"}}]',\n",
       " 'Competation2 Combined Json Data': '[{\"BUSINESS INFO\":{\"Business Name\":\"Gsm Marketing Agency\",\"Website Formatted\":\"gsmresults.com\",\"Website\":\"gsmresults.com\",\"Phone\":\"5202141694\",\"Default Email\":\"manage@gsmresults.com\",\"Email List\":[\"manage@gsmresults.com\"],\"street_address\":\"6700 N Oracle Rd UNIT 503\",\"city\":\"Tucson\",\"zip\":\"85704\",\"state\":\"AZ\",\"country\":\"United States\",\"Headquarters\":\"Yes\"},\"CATEGORY\":{\"primarry_category_name\":\"Advertising\",\"secondary_category_name\":\"Advertising\"},\"FIRMOGRAPHICS\":{\"locations_count\":2,\"annual_revenue\":\"$5M - $10M\",\"monthly_technology_spend\":\"1638\",\"revenue_seasonality\":\"Fall, Winter\",\"remote_only_business\":\"No\"},\"E-Commerce\":{\"reviews\":\"Yes\",\"featured_products\":\"No\",\"promotions\":\"No\",\"coupons\":\"No\",\"wish_list\":\"No\",\"order_tracking\":\"No\",\"get_a_quote\":\"No\",\"scheduler\":\"Yes\",\"mortgage_calculator\":\"No\",\"finance\":\"No\",\"inventory_search_form\":\"No\",\"estimates_page\":\"No\",\"menu\":\"No\",\"facebook_shop_presence\":\"No\",\"amazon_page_presence\":\"No\",\"reservation_and_booking\":\"No\",\"online_ordering\":\"No\",\"buying_page\":\"No\",\"selling_page\":\"No\",\"rentals_page\":\"No\"},\"Multi-Screen Compatibility\":{\"Mobile-Friendly\":\"Yes\",\"Responsive Design\":\"Yes\",\"Page Speed Score (Mobile)\":31},\"Advertising\":{\"Google Ads\":\"Yes\",\"Display Ads\":\"No\",\"Facebook Ads\":\"No\",\"Yelp Ads\":\"No\",\"Instagram Ads\":\"2\"},\"Social Media Presence\":{\"facebook_business_page- presence\":\"Yes\",\"facebook_business_page- fb_followers\":\"369\",\"facebook_business_page- page_url\":\"https:\\\\/\\\\/facebook.com\\\\/pg\\\\/2109738262586024\",\"twitter_business_profile- presence\":\"Yes\",\"twitter_business_profile- twitter_followers\":\"0\",\"twitter_business_profile- tweet_count\":\"0\",\"twitter_business_profile- page_url\":\"https:\\\\/\\\\/twitter.com\\\\/GSMresults\",\"youtube_business_channel- presence\":\"No\",\"linkedin_company_profile- presence\":\"Yes\",\"linkedin_company_profile- page_url\":\"https:\\\\/\\\\/www.linkedin.com\\\\/company\\\\/gsm-marketing\",\"pinterest- presence\":\"Yes\",\"pinterest- pinterest_followers\":\"No\",\"pinterest- pinterest_following\":\"No\",\"pinterest- pinterest_pins\":\"No\",\"pinterest- pinterest_boards\":\"No\",\"pinterest- page_url\":\"https:\\\\/\\\\/www.pinterest.com\\\\/foreignerds\",\"instagram- presence\":\"Yes\",\"instagram- insta_posts\":\"20\",\"instagram- insta_followers\":\"5,839\",\"instagram- insta_following\":\"127\",\"instagram- page_url\":\"https:\\\\/\\\\/www.instagram.com\\\\/gsmresults\\\\/\",\"fb_fans- Facebook Likes\":\"361\",\"fbcheckins- Facebook Check ins\":\"21\",\"tweet_friends_count- Twitter Following\":\"2,461\",\"tweet_likes- Twitter Likes\":\"15\",\"tweet_last_engagement- Twitter Last Engagement\":\"No\",\"tweet_description- Twitter Description\":\"No\",\"pinterest_profile_image_url- Pinterest Profile Image (Link)\":\"No\",\"pinterest_domain_verified- Pinterest Domain Verified\":\"No\",\"pinterest_is_verified_merchant- Pinterest Verified Merchant\":\"No\"},\"Local Business Presence\":{\"google_places-Listed\":\"Yes\",\"google_places-Claimed\":\"Yes\",\"google_places-NAP\":\"No\",\"google_places-local_directory_googleplaces_reviews\":\"9\",\"google_places-local_directory_googleplaces_ratings\":\"5\",\"yelp-Listed\":\"Yes\",\"yelp-Claimed\":\"Yes\",\"yelp-NAP\":\"No\",\"yelp-local_directory_yelp_reviews\":\"No\",\"yelp-local_directory_yelp_ratings\":\"No\",\"yellow_pages-Listed\":\"No\",\"yellow_pages-Claimed\":\"No\",\"nokia_places-Listed\":\"Yes\",\"nokia_places-Claimed\":\"No\",\"nokia_places-NAP\":\"No\",\"nextdoor-Listed\":\"Yes\",\"nextdoor-Claimed\":\"Yes\",\"google_places_claimed-Claimed\":\"Yes\",\"yelp_claimed-Claimed\":\"Yes\",\"yellow_pages_climed-Claimed\":\"No\",\"nokia_places_climed-Claimed\":\"No\"},\"Marketplace\":{\"Thumbtack\":\"No\",\"Uber Eats\":\"No\",\"OpenTable\":\"No\",\"iOS App\":\"No\",\"Android App\":\"No\"},\"Content Analysis\":{\"Local Phone Number\":\"No\",\"Address on Homepage\":\"No\",\"Map & Directions\":\"No\",\"Contact Us\":\"No\",\"Privacy Policy\":\"No\",\"Services Page\":\"No\",\"Newsletter\":\"No\"},\"Infrastructure Robustness\":{\"PageSpeed Score (Desktop)\":\"47\",\"Caching Enabled\":2,\"Image Size Optimization\":\"No\",\"Text Compression\":\"No\",\"Server Response Time\":\"0.458 s\",\"No Page Redirects\":\"Yes\",\"Prioritize Visible Content\":2,\"Wordpress\":\"Yes\",\"Google Analytics\":\"Yes\",\"SSL\":\"Yes\"},\"Google Reviews\":{\"Negative\":\"No\",\"Neutral\":\"No\",\"Positive\":\"100%\"},\"HR & Organization\":{\"Employee Count\":\"11 - 50\",\"Employee Reviews\":\"No\",\"Employee Ratings\":\"No\",\"Open Positions\":\"No\"},\"SEO Analysis\":{\"Domain Redirection\":\"Yes\",\"Robots.txt\":\"Yes\",\"Sitemap.xml\":\"Yes\",\"Title Tag Compliance\":\"Yes\",\"Location In Title\":\"Yes\",\"Unique Title\":\"Yes\",\"Meta Description Compliance\":\"Yes\",\"Headings Included\":\"Yes\",\"Image Alt Text\":\"Yes\",\"Frames Excluded\":\"No\",\"Flash Excluded\":\"Yes\",\"Backlinks\":\"297,574\",\"Domain Authority\":\"No\",\"Domain Age\":\"7 Y, 10 M\",\"Rich Snippets\":\"No\",\"SEF URL\":\"Yes\",\"Sitemap.html\":\"Yes\",\"Trust Flow Score\":\"25\"}}]',\n",
       " 'Competation3Combined Json Data': '[{\"BUSINESS INFO\":{\"Business Name\":\"Madden Media\",\"Website Formatted\":\"maddenmedia.com\",\"Website\":\"maddenmedia.com\",\"Phone\":\"5203220895\",\"Default Email\":\"info@maddenmedia.com\",\"Email List\":[\"info@maddenmedia.com\"],\"street_address\":\"31 N. 6th Ave.,Ste. 105-157\",\"city\":\"Tucson\",\"zip\":\"85701\",\"state\":\"AZ\",\"country\":\"United States\",\"Headquarters\":\"Yes\"},\"CATEGORY\":{\"primarry_category_name\":\"Advertising\",\"secondary_category_name\":\"Advertising\"},\"FIRMOGRAPHICS\":{\"locations_count\":7,\"annual_revenue\":\"$10M - $25M\",\"monthly_technology_spend\":\"14000\",\"business_age\":\"> 10 Y\",\"revenue_seasonality\":\"Fall, Winter\",\"remote_only_business\":\"No\"},\"E-Commerce\":{\"reviews\":\"Yes\",\"featured_products\":\"No\",\"promotions\":\"No\",\"coupons\":\"No\",\"wish_list\":\"No\",\"order_tracking\":\"No\",\"get_a_quote\":\"No\",\"scheduler\":\"No\",\"mortgage_calculator\":\"No\",\"finance\":\"No\",\"inventory_search_form\":\"No\",\"estimates_page\":\"No\",\"menu\":\"No\",\"facebook_shop_presence\":\"No\",\"amazon_page_presence\":\"No\",\"monthly_technology_spend_tb\":\"$5K - $20K\",\"reservation_and_booking\":\"No\",\"online_ordering\":\"No\",\"buying_page\":\"No\",\"selling_page\":\"No\",\"rentals_page\":\"No\"},\"Multi-Screen Compatibility\":{\"Mobile-Friendly\":\"Yes\",\"Responsive Design\":\"Yes\",\"Page Speed Score (Mobile)\":42},\"Advertising\":{\"Google Ads\":\"No\",\"Display Ads\":\"No\",\"Facebook Ads\":\"No\",\"Yelp Ads\":\"No\",\"Instagram Ads\":\"2\"},\"Social Media Presence\":{\"facebook_business_page- presence\":\"Yes\",\"facebook_business_page- fb_followers\":\"2,000\",\"facebook_business_page- page_url\":\"https:\\\\/\\\\/facebook.com\\\\/pg\\\\/7066098252\",\"twitter_business_profile- presence\":\"Yes\",\"twitter_business_profile- twitter_followers\":\"0\",\"twitter_business_profile- tweet_count\":\"0\",\"twitter_business_profile- page_url\":\"https:\\\\/\\\\/twitter.com\\\\/MaddenMedia\",\"youtube_business_channel- presence\":\"Yes\",\"youtube_business_channel- yt_videos_counts\":\"27\",\"youtube_business_channel- yt_subscribers_counts\":\"26\",\"youtube_business_channel- yt_views_counts\":\"3.8K\",\"youtube_business_channel- page_url\":\"https:\\\\/\\\\/www.youtube.com\\\\/channel\\\\/UCLsZduTvErQCqjHLOirBjLA\",\"linkedin_company_profile- presence\":\"Yes\",\"linkedin_company_profile- page_url\":\"https:\\\\/\\\\/www.linkedin.com\\\\/company\\\\/madden-media\",\"pinterest- presence\":\"Yes\",\"pinterest- pinterest_followers\":\"No\",\"pinterest- pinterest_following\":\"No\",\"pinterest- pinterest_pins\":\"No\",\"pinterest- pinterest_boards\":\"No\",\"pinterest- page_url\":\"https:\\\\/\\\\/www.pinterest.com\\\\/maddenmedia\",\"instagram- presence\":\"Yes\",\"instagram- insta_posts\":\"22\",\"instagram- insta_followers\":\"52\",\"instagram- insta_following\":\"76\",\"instagram- page_url\":\"https:\\\\/\\\\/www.instagram.com\\\\/maddenmediaworks\\\\/\",\"fb_fans- Facebook Likes\":\"Yes\",\"fbcheckins- Facebook Check ins\":\"345\",\"tweet_friends_count- Twitter Following\":\"Yes\",\"tweet_likes- Twitter Likes\":\"678\",\"tweet_last_engagement- Twitter Last Engagement\":\"No\",\"tweet_description- Twitter Description\":\"No\",\"pinterest_profile_image_url- Pinterest Profile Image (Link)\":\"No\",\"tweet_posting_frequency- Twitter Tweet Frequency\":\"No\",\"pinterest_domain_verified- Pinterest Domain Verified\":\"No\",\"pinterest_is_verified_merchant- Pinterest Verified Merchant\":\"No\"},\"Local Business Presence\":{\"google_places-Listed\":\"Yes\",\"google_places-Claimed\":\"Yes\",\"google_places-NAP\":\"No\",\"google_places-local_directory_googleplaces_reviews\":\"7\",\"google_places-local_directory_googleplaces_ratings\":\"3\",\"yelp-Listed\":\"Yes\",\"yelp-Claimed\":\"No\",\"yelp-NAP\":\"No\",\"yelp-local_directory_yelp_reviews\":\"No\",\"yelp-local_directory_yelp_ratings\":\"No\",\"yellow_pages-Listed\":\"No\",\"yellow_pages-Claimed\":\"No\",\"nokia_places-Listed\":\"Yes\",\"nokia_places-Claimed\":\"No\",\"nokia_places-NAP\":\"No\",\"nextdoor-Listed\":\"No\",\"nextdoor-Claimed\":\"No\",\"google_places_claimed-Claimed\":\"Yes\",\"yelp_claimed-Claimed\":\"No\",\"yellow_pages_climed-Claimed\":\"No\",\"nokia_places_climed-Claimed\":\"No\"},\"Marketplace\":{\"Thumbtack\":\"No\",\"Uber Eats\":\"No\",\"OpenTable\":\"No\",\"iOS App\":\"No\",\"Android App\":\"No\"},\"Content Analysis\":{\"Local Phone Number\":\"No\",\"Address on Homepage\":\"No\",\"Map & Directions\":\"No\",\"Contact Us\":\"No\",\"Privacy Policy\":\"No\",\"Newsletter\":\"No\"},\"Infrastructure Robustness\":{\"PageSpeed Score (Desktop)\":\"82\",\"Caching Enabled\":2,\"Image Size Optimization\":\"No\",\"Text Compression\":\"No\",\"Server Response Time\":\"0.038 s\",\"No Page Redirects\":\"Yes\",\"Prioritize Visible Content\":\"No\",\"Wordpress\":\"Yes\",\"Google Analytics\":\"Yes\",\"SSL\":\"Yes\"},\"Google Reviews\":{\"Negative\":\"67%\",\"Neutral\":\"No\",\"Positive\":\"33%\"},\"HR & Organization\":{\"Employee Count\":\"101 - 200\",\"Employee Reviews\":\"No\",\"Employee Ratings\":\"No\",\"Open Positions\":\"No\"},\"SEO Analysis\":{\"Domain Redirection\":\"Yes\",\"Robots.txt\":\"Yes\",\"Sitemap.xml\":\"Yes\",\"Title Tag Compliance\":\"Yes\",\"Location In Title\":\"No\",\"Unique Title\":\"No\",\"Meta Description Compliance\":\"Yes\",\"Headings Included\":\"Yes\",\"Image Alt Text\":\"Yes\",\"Frames Excluded\":\"Yes\",\"Flash Excluded\":\"Yes\",\"Backlinks\":\"Yes\",\"Domain Authority\":\"No\",\"Domain Age\":\"28 Y, 4 M\",\"Rich Snippets\":\"No\",\"SEF URL\":\"Yes\",\"Sitemap.html\":\"No\",\"Trust Flow Score\":\"40\"}}]'}"
      ]
     },
     "execution_count": 10,
     "metadata": {},
     "output_type": "execute_result"
    }
   ],
   "source": [
    "big_data[0]"
   ]
  },
  {
   "cell_type": "code",
   "execution_count": null,
   "metadata": {},
   "outputs": [],
   "source": []
  }
 ],
 "metadata": {
  "kernelspec": {
   "display_name": "myenv",
   "language": "python",
   "name": "python3"
  },
  "language_info": {
   "codemirror_mode": {
    "name": "ipython",
    "version": 3
   },
   "file_extension": ".py",
   "mimetype": "text/x-python",
   "name": "python",
   "nbconvert_exporter": "python",
   "pygments_lexer": "ipython3",
   "version": "3.11.4"
  }
 },
 "nbformat": 4,
 "nbformat_minor": 2
}
