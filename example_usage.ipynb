{
 "cells": [
  {
   "cell_type": "code",
   "execution_count": 1,
   "metadata": {},
   "outputs": [
    {
     "name": "stderr",
     "output_type": "stream",
     "text": [
      "/Users/eshantdas/Desktop/AG_Transformation/core/workflow/ag_hr_chatbot.py:2: LangChainDeprecationWarning: As of langchain-core 0.3.0, LangChain uses pydantic v2 internally. The langchain_core.pydantic_v1 module was a compatibility shim for pydantic v1, and should no longer be used. Please update the code to import from Pydantic directly.\n",
      "\n",
      "For example, replace imports like: `from langchain_core.pydantic_v1 import BaseModel`\n",
      "with: `from pydantic import BaseModel`\n",
      "or the v1 compatibility namespace if you are working in a code base that has not been fully upgraded to pydantic 2 yet. \tfrom pydantic.v1 import BaseModel\n",
      "\n",
      "  from core.pydantic_classes.workflow_clases import EvaluationResponse, Reframe_response\n",
      "/Users/eshantdas/Desktop/AG_Transformation/myenv/lib/python3.11/site-packages/langchain_openai/chat_models/base.py:1354: UserWarning: Received a Pydantic BaseModel V1 schema. This is not supported by method=\"json_schema\". Please use method=\"function_calling\" or specify schema via JSON Schema or Pydantic V2 BaseModel. Overriding to method=\"function_calling\".\n",
      "  warnings.warn(\n"
     ]
    }
   ],
   "source": [
    "from core.workflow.ag_hr_chatbot import ag_hr_bot_response"
   ]
  },
  {
   "cell_type": "code",
   "execution_count": null,
   "metadata": {},
   "outputs": [],
   "source": []
  },
  {
   "cell_type": "code",
   "execution_count": 2,
   "metadata": {},
   "outputs": [],
   "source": [
    "questions_list = [\n",
    "    \"Let's begin with the basics. What's the job title you're hiring for?\",\n",
    "    \"Thanks! And is this position full-time, part-time, or contract?\",\n",
    "    \"Which department will this role be in?\",\n",
    "    \"Got it. And who will this person report to?\",\n",
    "    \"Well. Where is this position based at?\",\n",
    "    \"Can you talk about the work arrangement for this role? (Hybrid, WFH, In Office, On Field Etc.)\",\n",
    "    \"Now, let's talk about the key responsibilities. Can you describe the main duties this person will handle?\",\n",
    "    \"Got it! Would you like to add any additional tasks or responsibilities?\",\n",
    "    \"Great! What are the specific long-term goals and expectations from this position?\",\n",
    "    \"Got it! What is the immediate challenge that a new hire would face in this position?\",\n",
    "    \"Great! What defines success in this role?\",\n",
    "    \"How does this role align with and support the company's overarching strategic objectives?\",\n",
    "    \"How frequently will this individual collaborate with teams from other departments, such as marketing, sales, or customer success?\",\n",
    "    \"Who are the key stakeholders this person will regularly interact with outside the immediate team?\",\n",
    "    \"Let's cover the skills and qualifications now. What's the minimum years of experience required for this role?\",\n",
    "    \"Great! Any specific educational background or certifications needed?\",\n",
    "    \"Are there any skills you expect them to develop?\",\n",
    "    \"And are there any must-have technical skills or soft skills?\",\n",
    "    \"What type of working style thrives for this role?\",\n",
    "    \"Are there any additional qualifications or skills that would be a bonus?\",\n",
    "    \"Is there any preferred candidate background that would fit the role best?\",\n",
    "    \"What opportunities for learning and growth does this role offer?\",\n",
    "    \"What benefits will you offer with this role?\",\n",
    "    \"What kind of guidance or mentorship can the new hire expect?\",\n",
    "    \"How would you describe your management style?\",\n",
    "    \"And what's the work culture like on the team?\",\n",
    "]\n",
    "\n",
    "\n",
    "\n"
   ]
  },
  {
   "cell_type": "code",
   "execution_count": 3,
   "metadata": {},
   "outputs": [
    {
     "name": "stdout",
     "output_type": "stream",
     "text": [
      "Could you please specify the job title you're hiring for, like 'Software Engineer' or 'Marketing Manager'? Thanks!\n",
      "Could you please provide a specific location? For example, 'New York, USA' or 'Vatican City' would be great!\n",
      "Sure, you can mention a small country! For example, you could say 'Vatican City' or 'Malta'. Just make sure to provide a specific location.\n"
     ]
    }
   ],
   "source": [
    "chat_history = []\n",
    "chat_summary = []\n",
    "\n",
    "for question in questions_list[:5]:\n",
    "    answer = input(question)\n",
    "    score, reply, follow_up, chat_history, chat_summary = await ag_hr_bot_response(\n",
    "        question, answer, chat_history, chat_summary\n",
    "    )\n",
    "\n",
    "    if score == 0:\n",
    "        while score == 0:  # Keep retrying while the score is 0\n",
    "            # Ask the user to provide a new input based on the reply\n",
    "            print(reply)\n",
    "            answer = input(reply)\n",
    "        \n",
    "            score, reply, follow_up, chat_history, chat_summary = await ag_hr_bot_response(\n",
    "                question, answer, chat_history, chat_summary\n",
    "            )\n",
    "            if score != 0:  # Exit the loop if score is no longer 0\n",
    "                break\n",
    "\n",
    "    if score == 1:\n",
    "        pass  # Go to the next question\n",
    "\n",
    "    elif score == 2:\n",
    "        while score==2:  # Continue handling follow-ups until resolved\n",
    "            # Ask the follow-up question and get the user's response\n",
    "            follow_up_answer = input(follow_up)\n",
    "     \n",
    "            score, reply, follow_up, chat_history, chat_summary = await ag_hr_bot_response(\n",
    "                follow_up, follow_up_answer, chat_history, chat_summary\n",
    "            )\n",
    "            if score ==0:\n",
    "                while score == 0:  # Keep retrying while the score is 0\n",
    "                    # Ask the user to provide a new input based on the reply\n",
    "                    answer = input(reply)\n",
    "                    score, reply, follow_up, chat_history, chat_summary = await ag_hr_bot_response(\n",
    "                        question, answer, chat_history, chat_summary\n",
    "                    )\n",
    "                if score != 0:  # Exit the loop if score is no longer 0\n",
    "                    break\n",
    "\n",
    "            if score!=2:  # Exit the loop if no more follow-up questions\n",
    "                break\n",
    "\n",
    "        # Once all follow-ups are resolved, move to the next question\n"
   ]
  },
  {
   "cell_type": "code",
   "execution_count": 4,
   "metadata": {},
   "outputs": [
    {
     "data": {
      "text/plain": [
       "[{'Question': \"Let's begin with the basics. What's the job title you're hiring for?\",\n",
       "  'Answer': 'Data Scientist'},\n",
       " {'Question': 'Thanks! And is this position full-time, part-time, or contract?',\n",
       "  'Answer': 'contract'},\n",
       " {'Question': 'Which department will this role be in?',\n",
       "  'Answer': 'Data and AI'},\n",
       " {'Question': 'Got it. And who will this person report to?',\n",
       "  'Answer': 'Karan head of Data and AI'},\n",
       " {'Question': 'Well. Where is this position based at?',\n",
       "  'Answer': 'Vatican City'}]"
      ]
     },
     "execution_count": 4,
     "metadata": {},
     "output_type": "execute_result"
    }
   ],
   "source": [
    "chat_summary"
   ]
  },
  {
   "cell_type": "code",
   "execution_count": 5,
   "metadata": {},
   "outputs": [
    {
     "data": {
      "text/plain": [
       "[AIMessage(content=\"Let's begin with the basics. What's the job title you're hiring for?\", additional_kwargs={}, response_metadata={}),\n",
       " HumanMessage(content='asdnl', additional_kwargs={}, response_metadata={}),\n",
       " AIMessage(content=\"It seems like your answer doesn't quite relate to the question about the job title you're hiring for. Please provide a specific job title, such as 'Software Engineer' or 'Marketing Manager'.\", additional_kwargs={}, response_metadata={}),\n",
       " AIMessage(content=\"Let's begin with the basics. What's the job title you're hiring for?\", additional_kwargs={}, response_metadata={}),\n",
       " HumanMessage(content='Data Scientist', additional_kwargs={}, response_metadata={}),\n",
       " AIMessage(content='', additional_kwargs={}, response_metadata={}),\n",
       " AIMessage(content='Thanks! And is this position full-time, part-time, or contract?', additional_kwargs={}, response_metadata={}),\n",
       " HumanMessage(content='contract', additional_kwargs={}, response_metadata={}),\n",
       " AIMessage(content='', additional_kwargs={}, response_metadata={}),\n",
       " AIMessage(content='Which department will this role be in?', additional_kwargs={}, response_metadata={}),\n",
       " HumanMessage(content='Data and AI', additional_kwargs={}, response_metadata={}),\n",
       " AIMessage(content='', additional_kwargs={}, response_metadata={}),\n",
       " AIMessage(content='Got it. And who will this person report to?', additional_kwargs={}, response_metadata={}),\n",
       " HumanMessage(content='Karan head of Data and AI', additional_kwargs={}, response_metadata={}),\n",
       " AIMessage(content='', additional_kwargs={}, response_metadata={}),\n",
       " AIMessage(content='Well. Where is this position based at?', additional_kwargs={}, response_metadata={}),\n",
       " HumanMessage(content='Sorry I dont understand can I mention a small country?', additional_kwargs={}, response_metadata={}),\n",
       " AIMessage(content=\"It seems like your answer doesn't directly address the question about the location of the position. Please provide a specific location, such as a city or country, rather than mentioning a small country without context. For example, you could say 'New York, USA' or 'Vatican City'.\", additional_kwargs={}, response_metadata={}),\n",
       " AIMessage(content='Well. Where is this position based at?', additional_kwargs={}, response_metadata={}),\n",
       " HumanMessage(content='Can I mention any small country as well?', additional_kwargs={}, response_metadata={}),\n",
       " AIMessage(content=\"It seems like your answer doesn't directly address the question about the location of the position. Please provide a specific location, such as a city or country, rather than asking if you can mention a small country. For example, you could say 'Vatican City' or 'Malta'.\", additional_kwargs={}, response_metadata={}),\n",
       " AIMessage(content='Well. Where is this position based at?', additional_kwargs={}, response_metadata={}),\n",
       " HumanMessage(content='Vatican City', additional_kwargs={}, response_metadata={}),\n",
       " AIMessage(content='', additional_kwargs={}, response_metadata={})]"
      ]
     },
     "execution_count": 5,
     "metadata": {},
     "output_type": "execute_result"
    }
   ],
   "source": [
    "chat_history"
   ]
  },
  {
   "cell_type": "code",
   "execution_count": null,
   "metadata": {},
   "outputs": [],
   "source": []
  }
 ],
 "metadata": {
  "kernelspec": {
   "display_name": "myenv",
   "language": "python",
   "name": "python3"
  },
  "language_info": {
   "codemirror_mode": {
    "name": "ipython",
    "version": 3
   },
   "file_extension": ".py",
   "mimetype": "text/x-python",
   "name": "python",
   "nbconvert_exporter": "python",
   "pygments_lexer": "ipython3",
   "version": "3.11.4"
  }
 },
 "nbformat": 4,
 "nbformat_minor": 2
}
