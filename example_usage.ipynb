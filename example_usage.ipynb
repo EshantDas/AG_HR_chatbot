{
 "cells": [
  {
   "cell_type": "code",
   "execution_count": 1,
   "metadata": {},
   "outputs": [],
   "source": [
    "from core.workflow.ag_hr_chatbot import ag_hr_bot_response"
   ]
  },
  {
   "cell_type": "code",
   "execution_count": null,
   "metadata": {},
   "outputs": [],
   "source": []
  },
  {
   "cell_type": "code",
   "execution_count": 9,
   "metadata": {},
   "outputs": [],
   "source": [
    "questions_list = [\n",
    "    \"Are there any additional qualifications or skills that would be a bonus?\",\n",
    "    \"Let's begin with the basics. What's the job title you're hiring for?\",\n",
    "    \"Thanks! And is this position full-time, part-time, or contract?\",\n",
    "    \"Which department will this role be in?\",\n",
    "    \"Got it. And who will this person report to?\",\n",
    "    \"Well. Where is this position based at?\",\n",
    "    \"Can you talk about the work arrangement for this role? (Hybrid, WFH, In Office, On Field Etc.)\",\n",
    "    \"Now, let's talk about the key responsibilities. Can you describe the main duties this person will handle?\",\n",
    "    \"Got it! Would you like to add any additional tasks or responsibilities?\",\n",
    "    \"Great! What are the specific long-term goals and expectations from this position?\",\n",
    "    \"Got it! What is the immediate challenge that a new hire would face in this position?\",\n",
    "    \"Great! What defines success in this role?\",\n",
    "    \"How does this role align with and support the company's overarching strategic objectives?\",\n",
    "    \"How frequently will this individual collaborate with teams from other departments, such as marketing, sales, or customer success?\",\n",
    "    \"Who are the key stakeholders this person will regularly interact with outside the immediate team?\",\n",
    "    \"Let's cover the skills and qualifications now. What's the minimum years of experience required for this role?\",\n",
    "    \"Great! Any specific educational background or certifications needed?\",\n",
    "    \"Are there any skills you expect them to develop?\",\n",
    "    \"And are there any must-have technical skills or soft skills?\",\n",
    "    \"What type of working style thrives for this role?\",\n",
    "    \"Are there any additional qualifications or skills that would be a bonus?\",\n",
    "    \"Is there any preferred candidate background that would fit the role best?\",\n",
    "    \"What opportunities for learning and growth does this role offer?\",\n",
    "    \"What benefits will you offer with this role?\",\n",
    "    \"What kind of guidance or mentorship can the new hire expect?\",\n",
    "    \"How would you describe your management style?\",\n",
    "    \"And what's the work culture like on the team?\",\n",
    "]\n",
    "\n",
    "\n",
    "\n"
   ]
  },
  {
   "cell_type": "code",
   "execution_count": 10,
   "metadata": {},
   "outputs": [],
   "source": [
    "chat_history = []\n",
    "chat_summary = []\n",
    "\n",
    "for question in questions_list[:2]:\n",
    "    answer = input(question)\n",
    "    score, reply, follow_up, chat_history, chat_summary = await ag_hr_bot_response(\n",
    "        question, answer, chat_history, chat_summary\n",
    "    )\n",
    "\n",
    "    if score == 0:\n",
    "        while score == 0:  # Keep retrying while the score is 0\n",
    "            # Ask the user to provide a new input based on the reply\n",
    "            answer = input(reply)\n",
    "            score, reply, follow_up, chat_history, chat_summary = await ag_hr_bot_response(\n",
    "                question, answer, chat_history, chat_summary\n",
    "            )\n",
    "            if score != 0:  # Exit the loop if score is no longer 0\n",
    "                break\n",
    "\n",
    "    if score == 1:\n",
    "        pass  # Go to the next question\n",
    "\n",
    "    elif score == 2:\n",
    "        while score==2:  # Continue handling follow-ups until resolved\n",
    "            # Ask the follow-up question and get the user's response\n",
    "            follow_up_answer = input(follow_up)\n",
    "     \n",
    "            score, reply, follow_up, chat_history, chat_summary = await ag_hr_bot_response(\n",
    "                follow_up, follow_up_answer, chat_history, chat_summary\n",
    "            )\n",
    "            if score ==0:\n",
    "                while score == 0:  # Keep retrying while the score is 0\n",
    "                    # Ask the user to provide a new input based on the reply\n",
    "                    answer = input(reply)\n",
    "                    score, reply, follow_up, chat_history, chat_summary = await ag_hr_bot_response(\n",
    "                        question, answer, chat_history, chat_summary\n",
    "                    )\n",
    "                if score != 0:  # Exit the loop if score is no longer 0\n",
    "                    break\n",
    "\n",
    "            if score!=2:  # Exit the loop if no more follow-up questions\n",
    "                break\n",
    "\n",
    "        # Once all follow-ups are resolved, move to the next question\n"
   ]
  },
  {
   "cell_type": "code",
   "execution_count": 11,
   "metadata": {},
   "outputs": [
    {
     "data": {
      "text/plain": [
       "[{'Question': 'Are there any additional qualifications or skills that would be a bonus?',\n",
       "  'Answer': 'no'},\n",
       " {'Question': \"Let's begin with the basics. What's the job title you're hiring for?\",\n",
       "  'Answer': 'data scientist'}]"
      ]
     },
     "execution_count": 11,
     "metadata": {},
     "output_type": "execute_result"
    }
   ],
   "source": [
    "chat_summary"
   ]
  },
  {
   "cell_type": "code",
   "execution_count": null,
   "metadata": {},
   "outputs": [],
   "source": []
  }
 ],
 "metadata": {
  "kernelspec": {
   "display_name": "myenv",
   "language": "python",
   "name": "python3"
  },
  "language_info": {
   "codemirror_mode": {
    "name": "ipython",
    "version": 3
   },
   "file_extension": ".py",
   "mimetype": "text/x-python",
   "name": "python",
   "nbconvert_exporter": "python",
   "pygments_lexer": "ipython3",
   "version": "3.11.4"
  }
 },
 "nbformat": 4,
 "nbformat_minor": 2
}
