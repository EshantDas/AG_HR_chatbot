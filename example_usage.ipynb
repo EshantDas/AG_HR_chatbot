{
 "cells": [
  {
   "cell_type": "code",
   "execution_count": 1,
   "metadata": {},
   "outputs": [
    {
     "name": "stderr",
     "output_type": "stream",
     "text": [
      "/Users/eshantdas/Desktop/AG_Transformation/core/workflow/ag_hr_chatbot.py:2: LangChainDeprecationWarning: As of langchain-core 0.3.0, LangChain uses pydantic v2 internally. The langchain_core.pydantic_v1 module was a compatibility shim for pydantic v1, and should no longer be used. Please update the code to import from Pydantic directly.\n",
      "\n",
      "For example, replace imports like: `from langchain_core.pydantic_v1 import BaseModel`\n",
      "with: `from pydantic import BaseModel`\n",
      "or the v1 compatibility namespace if you are working in a code base that has not been fully upgraded to pydantic 2 yet. \tfrom pydantic.v1 import BaseModel\n",
      "\n",
      "  from core.pydantic_classes.workflow_clases import EvaluationResponse, Reframe_response\n",
      "/Users/eshantdas/Desktop/AG_Transformation/myenv/lib/python3.11/site-packages/langchain_openai/chat_models/base.py:1354: UserWarning: Received a Pydantic BaseModel V1 schema. This is not supported by method=\"json_schema\". Please use method=\"function_calling\" or specify schema via JSON Schema or Pydantic V2 BaseModel. Overriding to method=\"function_calling\".\n",
      "  warnings.warn(\n"
     ]
    }
   ],
   "source": [
    "from core.workflow.ag_hr_chatbot import ag_hr_bot_response"
   ]
  },
  {
   "cell_type": "code",
   "execution_count": null,
   "metadata": {},
   "outputs": [],
   "source": []
  },
  {
   "cell_type": "code",
   "execution_count": 2,
   "metadata": {},
   "outputs": [],
   "source": [
    "questions_list = [\n",
    "    \"Let's begin with the basics. What's the job title you're hiring for?\",\n",
    "    \"Thanks! And is this position full-time, part-time, or contract?\",\n",
    "    \"Which department will this role be in?\",\n",
    "    \"Got it. And who will this person report to?\",\n",
    "    \"Well. Where is this position based at?\",\n",
    "    \"Can you talk about the work arrangement for this role? (Hybrid, WFH, In Office, On Field Etc.)\",\n",
    "    \"Now, let's talk about the key responsibilities. Can you describe the main duties this person will handle?\",\n",
    "    \"Got it! Would you like to add any additional tasks or responsibilities?\",\n",
    "    \"Great! What are the specific long-term goals and expectations from this position?\",\n",
    "    \"Got it! What is the immediate challenge that a new hire would face in this position?\",\n",
    "    \"Great! What defines success in this role?\",\n",
    "    \"How does this role align with and support the company's overarching strategic objectives?\",\n",
    "    \"How frequently will this individual collaborate with teams from other departments, such as marketing, sales, or customer success?\",\n",
    "    \"Who are the key stakeholders this person will regularly interact with outside the immediate team?\",\n",
    "    \"Let's cover the skills and qualifications now. What's the minimum years of experience required for this role?\",\n",
    "    \"Great! Any specific educational background or certifications needed?\",\n",
    "    \"Are there any skills you expect them to develop?\",\n",
    "    \"And are there any must-have technical skills or soft skills?\",\n",
    "    \"What type of working style thrives for this role?\",\n",
    "    \"Are there any additional qualifications or skills that would be a bonus?\",\n",
    "    \"Is there any preferred candidate background that would fit the role best?\",\n",
    "    \"What opportunities for learning and growth does this role offer?\",\n",
    "    \"What benefits will you offer with this role?\",\n",
    "    \"What kind of guidance or mentorship can the new hire expect?\",\n",
    "    \"How would you describe your management style?\",\n",
    "    \"And what's the work culture like on the team?\",\n",
    "]\n",
    "\n",
    "\n",
    "\n"
   ]
  },
  {
   "cell_type": "code",
   "execution_count": 3,
   "metadata": {},
   "outputs": [],
   "source": [
    "chat_history = []\n",
    "chat_summary = []\n",
    "\n",
    "for question in questions_list[:5]:\n",
    "    answer = input(question)\n",
    "    score, reply, follow_up, chat_history, chat_summary = await ag_hr_bot_response(\n",
    "        question, answer, chat_history, chat_summary\n",
    "    )\n",
    "\n",
    "    if score == 0:\n",
    "        while score == 0:  # Keep retrying while the score is 0\n",
    "            # Ask the user to provide a new input based on the reply\n",
    "            print(reply)\n",
    "            answer = input(reply)\n",
    "        \n",
    "            score, reply, follow_up, chat_history, chat_summary = await ag_hr_bot_response(\n",
    "                question, answer, chat_history, chat_summary\n",
    "            )\n",
    "            if score != 0:  # Exit the loop if score is no longer 0\n",
    "                break\n",
    "\n",
    "    if score == 1:\n",
    "        pass  # Go to the next question\n",
    "\n",
    "    elif score == 2:\n",
    "        while score==2:  # Continue handling follow-ups until resolved\n",
    "            # Ask the follow-up question and get the user's response\n",
    "            follow_up_answer = input(follow_up)\n",
    "     \n",
    "            score, reply, follow_up, chat_history, chat_summary = await ag_hr_bot_response(\n",
    "                follow_up, follow_up_answer, chat_history, chat_summary\n",
    "            )\n",
    "            if score ==0:\n",
    "                while score == 0:  # Keep retrying while the score is 0\n",
    "                    # Ask the user to provide a new input based on the reply\n",
    "                    answer = input(reply)\n",
    "                    score, reply, follow_up, chat_history, chat_summary = await ag_hr_bot_response(\n",
    "                        question, answer, chat_history, chat_summary\n",
    "                    )\n",
    "                if score != 0:  # Exit the loop if score is no longer 0\n",
    "                    break\n",
    "\n",
    "            if score!=2:  # Exit the loop if no more follow-up questions\n",
    "                break\n",
    "\n",
    "        # Once all follow-ups are resolved, move to the next question\n"
   ]
  },
  {
   "cell_type": "code",
   "execution_count": 4,
   "metadata": {},
   "outputs": [
    {
     "data": {
      "text/plain": [
       "[{'Question': \"Let's begin with the basics. What's the job title you're hiring for?\",\n",
       "  'Answer': 'Data Scientist'},\n",
       " {'Question': 'Thanks! And is this position full-time, part-time, or contract?',\n",
       "  'Answer': 'part time'},\n",
       " {'Question': 'Which department will this role be in?',\n",
       "  'Answer': 'Analytics department'},\n",
       " {'Question': 'Got it. And who will this person report to?',\n",
       "  'Answer': 'Karan head of Data Science'},\n",
       " {'Question': 'Well. Where is this position based at?', 'Answer': 'Asia'}]"
      ]
     },
     "execution_count": 4,
     "metadata": {},
     "output_type": "execute_result"
    }
   ],
   "source": [
    "chat_summary"
   ]
  },
  {
   "cell_type": "code",
   "execution_count": 5,
   "metadata": {},
   "outputs": [
    {
     "data": {
      "text/plain": [
       "[AIMessage(content=\"Let's begin with the basics. What's the job title you're hiring for?\", additional_kwargs={}, response_metadata={}),\n",
       " HumanMessage(content='Data Scientist', additional_kwargs={}, response_metadata={}),\n",
       " AIMessage(content='', additional_kwargs={}, response_metadata={}),\n",
       " AIMessage(content='Thanks! And is this position full-time, part-time, or contract?', additional_kwargs={}, response_metadata={}),\n",
       " HumanMessage(content='Sorry I am not understanding', additional_kwargs={}, response_metadata={}),\n",
       " AIMessage(content='It seems like you\\'re having some difficulty understanding the question. The question is asking whether the Data Scientist position is full-time, part-time, or contract. For example, you could respond with \"The position is full-time\" or \"This is a contract position.\" Please let me know if you need further clarification!', additional_kwargs={}, response_metadata={}),\n",
       " AIMessage(content='Thanks! And is this position full-time, part-time, or contract?', additional_kwargs={}, response_metadata={}),\n",
       " HumanMessage(content='part time', additional_kwargs={}, response_metadata={}),\n",
       " AIMessage(content='', additional_kwargs={}, response_metadata={}),\n",
       " AIMessage(content='Which department will this role be in?', additional_kwargs={}, response_metadata={}),\n",
       " HumanMessage(content='Sorry?', additional_kwargs={}, response_metadata={}),\n",
       " AIMessage(content='It seems like you\\'re unsure about the question. The question is asking which department the Data Scientist role will be in. For example, you could respond with \"The role will be in the Analytics department\" or \"This position is part of the IT department.\" Please let me know if you need further clarification!', additional_kwargs={}, response_metadata={}),\n",
       " AIMessage(content='Which department will this role be in?', additional_kwargs={}, response_metadata={}),\n",
       " HumanMessage(content='Analytics department', additional_kwargs={}, response_metadata={}),\n",
       " AIMessage(content='', additional_kwargs={}, response_metadata={}),\n",
       " AIMessage(content='Got it. And who will this person report to?', additional_kwargs={}, response_metadata={}),\n",
       " HumanMessage(content='Karan head of Data Science', additional_kwargs={}, response_metadata={}),\n",
       " AIMessage(content='', additional_kwargs={}, response_metadata={}),\n",
       " AIMessage(content='Well. Where is this position based at?', additional_kwargs={}, response_metadata={}),\n",
       " HumanMessage(content='Sorry I am not understanding the question can you help me', additional_kwargs={}, response_metadata={}),\n",
       " AIMessage(content='It seems like you\\'re having some difficulty understanding the question. The question is asking where the Data Scientist position is based, such as \"The position is based in New York\" or \"This role is remote.\" Please let me know if you need further clarification!', additional_kwargs={}, response_metadata={}),\n",
       " AIMessage(content='Well. Where is this position based at?', additional_kwargs={}, response_metadata={}),\n",
       " HumanMessage(content='I am very confused :(', additional_kwargs={}, response_metadata={}),\n",
       " AIMessage(content='It seems like you\\'re feeling confused about the question. The question is asking where the Data Scientist position is based, such as \"The position is based in New York\" or \"This role is remote.\" Please let me know if you need further clarification!', additional_kwargs={}, response_metadata={}),\n",
       " AIMessage(content='Well. Where is this position based at?', additional_kwargs={}, response_metadata={}),\n",
       " HumanMessage(content='In the middle of Antartic Ocean', additional_kwargs={}, response_metadata={}),\n",
       " AIMessage(content='It seems like your answer about the position being in the middle of the Antarctic Ocean is not quite relevant to the question. The question is asking for the location of the Data Scientist position, which typically would be a city or a type of work arrangement, such as remote. For example, you could say \"The position is based in New York\" or \"This role is remote.\" Could you please provide a more relevant location?', additional_kwargs={}, response_metadata={}),\n",
       " AIMessage(content='Well. Where is this position based at?', additional_kwargs={}, response_metadata={}),\n",
       " HumanMessage(content='Antartica ', additional_kwargs={}, response_metadata={}),\n",
       " AIMessage(content='It seems like your answer about the position being in Antarctica is not quite relevant to the question. The question is asking for the location of the Data Scientist position, which typically would be a city or a type of work arrangement, such as remote. For example, you could say \"The position is based in New York\" or \"This role is remote.\" Could you please provide a more relevant location?', additional_kwargs={}, response_metadata={}),\n",
       " AIMessage(content='Well. Where is this position based at?', additional_kwargs={}, response_metadata={}),\n",
       " HumanMessage(content='Antartica City', additional_kwargs={}, response_metadata={}),\n",
       " AIMessage(content='It seems like your answer about the position being in \"Antarctica City\" is not quite relevant to the question. The question is asking for the location of the Data Scientist position, which typically would be a city or a type of work arrangement, such as remote. For example, you could say \"The position is based in New York\" or \"This role is remote.\" Could you please provide a more relevant location?', additional_kwargs={}, response_metadata={}),\n",
       " AIMessage(content='Well. Where is this position based at?', additional_kwargs={}, response_metadata={}),\n",
       " HumanMessage(content='Asia', additional_kwargs={}, response_metadata={}),\n",
       " AIMessage(content='', additional_kwargs={}, response_metadata={})]"
      ]
     },
     "execution_count": 5,
     "metadata": {},
     "output_type": "execute_result"
    }
   ],
   "source": [
    "chat_history"
   ]
  },
  {
   "cell_type": "code",
   "execution_count": null,
   "metadata": {},
   "outputs": [],
   "source": []
  }
 ],
 "metadata": {
  "kernelspec": {
   "display_name": "myenv",
   "language": "python",
   "name": "python3"
  },
  "language_info": {
   "codemirror_mode": {
    "name": "ipython",
    "version": 3
   },
   "file_extension": ".py",
   "mimetype": "text/x-python",
   "name": "python",
   "nbconvert_exporter": "python",
   "pygments_lexer": "ipython3",
   "version": "3.11.4"
  }
 },
 "nbformat": 4,
 "nbformat_minor": 2
}
